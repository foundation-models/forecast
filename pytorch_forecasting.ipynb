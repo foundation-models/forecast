{
  "nbformat": 4,
  "nbformat_minor": 0,
  "metadata": {
    "colab": {
      "name": "pytorch-forecasting.ipynb",
      "provenance": [],
      "toc_visible": true,
      "include_colab_link": true
    },
    "kernelspec": {
      "name": "python3",
      "display_name": "Python 3"
    },
    "accelerator": "GPU"
  },
  "cells": [
    {
      "cell_type": "markdown",
      "metadata": {
        "id": "view-in-github",
        "colab_type": "text"
      },
      "source": [
        "<a href=\"https://colab.research.google.com/github/hossein20s/forecast/blob/master/pytorch_forecasting.ipynb\" target=\"_parent\"><img src=\"https://colab.research.google.com/assets/colab-badge.svg\" alt=\"Open In Colab\"/></a>"
      ]
    },
    {
      "cell_type": "code",
      "metadata": {
        "id": "b77xrzDWLPhP",
        "colab": {
          "base_uri": "https://localhost:8080/"
        },
        "outputId": "b2ea051b-7959-4867-e3d4-49930f8e7ad5"
      },
      "source": [
        "!pip install pytorch-forecasting"
      ],
      "execution_count": 1,
      "outputs": [
        {
          "output_type": "stream",
          "text": [
            "Collecting pytorch-forecasting\n",
            "\u001b[?25l  Downloading https://files.pythonhosted.org/packages/30/47/aefc7a9654354959c43dc9846194ab3067a396b71ea5555a50e1a34a30f7/pytorch_forecasting-0.8.2-py3-none-any.whl (96kB)\n",
            "\u001b[K     |████████████████████████████████| 102kB 7.3MB/s \n",
            "\u001b[?25hCollecting pytorch-lightning<2.0.0,>=1.0.4\n",
            "\u001b[?25l  Downloading https://files.pythonhosted.org/packages/12/98/86a89dcd54f84582bbf24cb29cd104b966fcf934d92d5dfc626f225015d2/pytorch_lightning-1.1.4-py3-none-any.whl (684kB)\n",
            "\u001b[K     |████████████████████████████████| 686kB 19.5MB/s \n",
            "\u001b[?25hCollecting scikit-learn<0.25,>=0.23\n",
            "\u001b[?25l  Downloading https://files.pythonhosted.org/packages/30/aa/db462d385c56905b731403885454188683f63c86ea68900f6f7e7558b5fa/scikit_learn-0.24.0-cp36-cp36m-manylinux2010_x86_64.whl (22.2MB)\n",
            "\u001b[K     |████████████████████████████████| 22.2MB 1.8MB/s \n",
            "\u001b[?25hCollecting fsspec<0.9.0,>=0.8.5\n",
            "\u001b[?25l  Downloading https://files.pythonhosted.org/packages/ec/80/72ac0982cc833945fada4b76c52f0f65435ba4d53bc9317d1c70b5f7e7d5/fsspec-0.8.5-py3-none-any.whl (98kB)\n",
            "\u001b[K     |████████████████████████████████| 102kB 14.3MB/s \n",
            "\u001b[?25hRequirement already satisfied: statsmodels in /usr/local/lib/python3.6/dist-packages (from pytorch-forecasting) (0.10.2)\n",
            "Requirement already satisfied: matplotlib in /usr/local/lib/python3.6/dist-packages (from pytorch-forecasting) (3.2.2)\n",
            "Collecting optuna<3.0.0,>=2.3.0\n",
            "\u001b[?25l  Downloading https://files.pythonhosted.org/packages/59/b4/a1a80252cef3d8f5a0acdf6e678d6dc07e2e6964ee46d0453a2ae1af1ecb/optuna-2.4.0-py3-none-any.whl (282kB)\n",
            "\u001b[K     |████████████████████████████████| 286kB 52.3MB/s \n",
            "\u001b[?25hRequirement already satisfied: cloudpickle in /usr/local/lib/python3.6/dist-packages (from pytorch-forecasting) (1.3.0)\n",
            "Requirement already satisfied: scipy in /usr/local/lib/python3.6/dist-packages (from pytorch-forecasting) (1.4.1)\n",
            "Requirement already satisfied: pandas<2.0.0,>=1.1.0 in /usr/local/lib/python3.6/dist-packages (from pytorch-forecasting) (1.1.5)\n",
            "Requirement already satisfied: torch<2.0,>=1.7 in /usr/local/lib/python3.6/dist-packages (from pytorch-forecasting) (1.7.0+cu101)\n",
            "Requirement already satisfied: numpy>=1.16.6 in /usr/local/lib/python3.6/dist-packages (from pytorch-lightning<2.0.0,>=1.0.4->pytorch-forecasting) (1.19.5)\n",
            "Requirement already satisfied: tqdm>=4.41.0 in /usr/local/lib/python3.6/dist-packages (from pytorch-lightning<2.0.0,>=1.0.4->pytorch-forecasting) (4.41.1)\n",
            "Collecting PyYAML>=5.1\n",
            "\u001b[?25l  Downloading https://files.pythonhosted.org/packages/64/c2/b80047c7ac2478f9501676c988a5411ed5572f35d1beff9cae07d321512c/PyYAML-5.3.1.tar.gz (269kB)\n",
            "\u001b[K     |████████████████████████████████| 276kB 48.3MB/s \n",
            "\u001b[?25hRequirement already satisfied: tensorboard>=2.2.0 in /usr/local/lib/python3.6/dist-packages (from pytorch-lightning<2.0.0,>=1.0.4->pytorch-forecasting) (2.4.0)\n",
            "Collecting future>=0.17.1\n",
            "\u001b[?25l  Downloading https://files.pythonhosted.org/packages/45/0b/38b06fd9b92dc2b68d58b75f900e97884c45bedd2ff83203d933cf5851c9/future-0.18.2.tar.gz (829kB)\n",
            "\u001b[K     |████████████████████████████████| 829kB 35.7MB/s \n",
            "\u001b[?25hCollecting threadpoolctl>=2.0.0\n",
            "  Downloading https://files.pythonhosted.org/packages/f7/12/ec3f2e203afa394a149911729357aa48affc59c20e2c1c8297a60f33f133/threadpoolctl-2.1.0-py3-none-any.whl\n",
            "Requirement already satisfied: joblib>=0.11 in /usr/local/lib/python3.6/dist-packages (from scikit-learn<0.25,>=0.23->pytorch-forecasting) (1.0.0)\n",
            "Requirement already satisfied: patsy>=0.4.0 in /usr/local/lib/python3.6/dist-packages (from statsmodels->pytorch-forecasting) (0.5.1)\n",
            "Requirement already satisfied: kiwisolver>=1.0.1 in /usr/local/lib/python3.6/dist-packages (from matplotlib->pytorch-forecasting) (1.3.1)\n",
            "Requirement already satisfied: pyparsing!=2.0.4,!=2.1.2,!=2.1.6,>=2.0.1 in /usr/local/lib/python3.6/dist-packages (from matplotlib->pytorch-forecasting) (2.4.7)\n",
            "Requirement already satisfied: cycler>=0.10 in /usr/local/lib/python3.6/dist-packages (from matplotlib->pytorch-forecasting) (0.10.0)\n",
            "Requirement already satisfied: python-dateutil>=2.1 in /usr/local/lib/python3.6/dist-packages (from matplotlib->pytorch-forecasting) (2.8.1)\n",
            "Requirement already satisfied: packaging>=20.0 in /usr/local/lib/python3.6/dist-packages (from optuna<3.0.0,>=2.3.0->pytorch-forecasting) (20.8)\n",
            "Collecting cliff\n",
            "\u001b[?25l  Downloading https://files.pythonhosted.org/packages/8a/61/5b64d73b01c1218f55c894b5ec0fb89b32c6960b7f7b3ad9f5ac0c373b9d/cliff-3.5.0-py3-none-any.whl (81kB)\n",
            "\u001b[K     |████████████████████████████████| 81kB 11.3MB/s \n",
            "\u001b[?25hCollecting colorlog\n",
            "  Downloading https://files.pythonhosted.org/packages/4e/c8/c16d30bbed11a1722060014c246d124582d1f781b26f5859d8dacc3e08e1/colorlog-4.6.2-py2.py3-none-any.whl\n",
            "Collecting alembic\n",
            "\u001b[?25l  Downloading https://files.pythonhosted.org/packages/12/aa/c261dfd7f4ba6ce4701846a2689a46e2a172e012171de4378fc2926e3bf0/alembic-1.4.3-py2.py3-none-any.whl (159kB)\n",
            "\u001b[K     |████████████████████████████████| 163kB 50.0MB/s \n",
            "\u001b[?25hCollecting cmaes>=0.6.0\n",
            "  Downloading https://files.pythonhosted.org/packages/8d/3c/06c76ec8b54b9b1fad7f35e903fd25010fe3e0d41bd94cea5e6f12e0d651/cmaes-0.7.0-py3-none-any.whl\n",
            "Requirement already satisfied: sqlalchemy>=1.1.0 in /usr/local/lib/python3.6/dist-packages (from optuna<3.0.0,>=2.3.0->pytorch-forecasting) (1.3.22)\n",
            "Requirement already satisfied: pytz>=2017.2 in /usr/local/lib/python3.6/dist-packages (from pandas<2.0.0,>=1.1.0->pytorch-forecasting) (2018.9)\n",
            "Requirement already satisfied: dataclasses in /usr/local/lib/python3.6/dist-packages (from torch<2.0,>=1.7->pytorch-forecasting) (0.8)\n",
            "Requirement already satisfied: typing-extensions in /usr/local/lib/python3.6/dist-packages (from torch<2.0,>=1.7->pytorch-forecasting) (3.7.4.3)\n",
            "Requirement already satisfied: grpcio>=1.24.3 in /usr/local/lib/python3.6/dist-packages (from tensorboard>=2.2.0->pytorch-lightning<2.0.0,>=1.0.4->pytorch-forecasting) (1.32.0)\n",
            "Requirement already satisfied: markdown>=2.6.8 in /usr/local/lib/python3.6/dist-packages (from tensorboard>=2.2.0->pytorch-lightning<2.0.0,>=1.0.4->pytorch-forecasting) (3.3.3)\n",
            "Requirement already satisfied: setuptools>=41.0.0 in /usr/local/lib/python3.6/dist-packages (from tensorboard>=2.2.0->pytorch-lightning<2.0.0,>=1.0.4->pytorch-forecasting) (51.1.1)\n",
            "Requirement already satisfied: tensorboard-plugin-wit>=1.6.0 in /usr/local/lib/python3.6/dist-packages (from tensorboard>=2.2.0->pytorch-lightning<2.0.0,>=1.0.4->pytorch-forecasting) (1.7.0)\n",
            "Requirement already satisfied: protobuf>=3.6.0 in /usr/local/lib/python3.6/dist-packages (from tensorboard>=2.2.0->pytorch-lightning<2.0.0,>=1.0.4->pytorch-forecasting) (3.12.4)\n",
            "Requirement already satisfied: werkzeug>=0.11.15 in /usr/local/lib/python3.6/dist-packages (from tensorboard>=2.2.0->pytorch-lightning<2.0.0,>=1.0.4->pytorch-forecasting) (1.0.1)\n",
            "Requirement already satisfied: requests<3,>=2.21.0 in /usr/local/lib/python3.6/dist-packages (from tensorboard>=2.2.0->pytorch-lightning<2.0.0,>=1.0.4->pytorch-forecasting) (2.23.0)\n",
            "Requirement already satisfied: wheel>=0.26; python_version >= \"3\" in /usr/local/lib/python3.6/dist-packages (from tensorboard>=2.2.0->pytorch-lightning<2.0.0,>=1.0.4->pytorch-forecasting) (0.36.2)\n",
            "Requirement already satisfied: google-auth<2,>=1.6.3 in /usr/local/lib/python3.6/dist-packages (from tensorboard>=2.2.0->pytorch-lightning<2.0.0,>=1.0.4->pytorch-forecasting) (1.17.2)\n",
            "Requirement already satisfied: google-auth-oauthlib<0.5,>=0.4.1 in /usr/local/lib/python3.6/dist-packages (from tensorboard>=2.2.0->pytorch-lightning<2.0.0,>=1.0.4->pytorch-forecasting) (0.4.2)\n",
            "Requirement already satisfied: six>=1.10.0 in /usr/local/lib/python3.6/dist-packages (from tensorboard>=2.2.0->pytorch-lightning<2.0.0,>=1.0.4->pytorch-forecasting) (1.15.0)\n",
            "Requirement already satisfied: absl-py>=0.4 in /usr/local/lib/python3.6/dist-packages (from tensorboard>=2.2.0->pytorch-lightning<2.0.0,>=1.0.4->pytorch-forecasting) (0.10.0)\n",
            "Collecting pbr!=2.1.0,>=2.0.0\n",
            "\u001b[?25l  Downloading https://files.pythonhosted.org/packages/fb/48/69046506f6ac61c1eaa9a0d42d22d54673b69e176d30ca98e3f61513e980/pbr-5.5.1-py2.py3-none-any.whl (106kB)\n",
            "\u001b[K     |████████████████████████████████| 112kB 56.4MB/s \n",
            "\u001b[?25hCollecting PrettyTable<0.8,>=0.7.2\n",
            "  Downloading https://files.pythonhosted.org/packages/ef/30/4b0746848746ed5941f052479e7c23d2b56d174b82f4fd34a25e389831f5/prettytable-0.7.2.tar.bz2\n",
            "Collecting stevedore>=2.0.1\n",
            "\u001b[?25l  Downloading https://files.pythonhosted.org/packages/d4/49/b602307aeac3df3384ff1fcd05da9c0376c622a6c48bb5325f28ab165b57/stevedore-3.3.0-py3-none-any.whl (49kB)\n",
            "\u001b[K     |████████████████████████████████| 51kB 7.8MB/s \n",
            "\u001b[?25hCollecting cmd2!=0.8.3,>=0.8.0\n",
            "\u001b[?25l  Downloading https://files.pythonhosted.org/packages/27/54/af6e2703f064485d717cb311d3f9440cd302a823ba6d80a020b59eae166d/cmd2-1.4.0-py3-none-any.whl (133kB)\n",
            "\u001b[K     |████████████████████████████████| 133kB 55.7MB/s \n",
            "\u001b[?25hCollecting python-editor>=0.3\n",
            "  Downloading https://files.pythonhosted.org/packages/c6/d3/201fc3abe391bbae6606e6f1d598c15d367033332bd54352b12f35513717/python_editor-1.0.4-py3-none-any.whl\n",
            "Collecting Mako\n",
            "\u001b[?25l  Downloading https://files.pythonhosted.org/packages/a6/37/0e706200d22172eb8fa17d68a7ae22dec7631a0a92266634fb518a88a5b2/Mako-1.1.3-py2.py3-none-any.whl (75kB)\n",
            "\u001b[K     |████████████████████████████████| 81kB 12.7MB/s \n",
            "\u001b[?25hRequirement already satisfied: importlib-metadata; python_version < \"3.8\" in /usr/local/lib/python3.6/dist-packages (from markdown>=2.6.8->tensorboard>=2.2.0->pytorch-lightning<2.0.0,>=1.0.4->pytorch-forecasting) (3.3.0)\n",
            "Requirement already satisfied: urllib3!=1.25.0,!=1.25.1,<1.26,>=1.21.1 in /usr/local/lib/python3.6/dist-packages (from requests<3,>=2.21.0->tensorboard>=2.2.0->pytorch-lightning<2.0.0,>=1.0.4->pytorch-forecasting) (1.24.3)\n",
            "Requirement already satisfied: certifi>=2017.4.17 in /usr/local/lib/python3.6/dist-packages (from requests<3,>=2.21.0->tensorboard>=2.2.0->pytorch-lightning<2.0.0,>=1.0.4->pytorch-forecasting) (2020.12.5)\n",
            "Requirement already satisfied: idna<3,>=2.5 in /usr/local/lib/python3.6/dist-packages (from requests<3,>=2.21.0->tensorboard>=2.2.0->pytorch-lightning<2.0.0,>=1.0.4->pytorch-forecasting) (2.10)\n",
            "Requirement already satisfied: chardet<4,>=3.0.2 in /usr/local/lib/python3.6/dist-packages (from requests<3,>=2.21.0->tensorboard>=2.2.0->pytorch-lightning<2.0.0,>=1.0.4->pytorch-forecasting) (3.0.4)\n",
            "Requirement already satisfied: pyasn1-modules>=0.2.1 in /usr/local/lib/python3.6/dist-packages (from google-auth<2,>=1.6.3->tensorboard>=2.2.0->pytorch-lightning<2.0.0,>=1.0.4->pytorch-forecasting) (0.2.8)\n",
            "Requirement already satisfied: cachetools<5.0,>=2.0.0 in /usr/local/lib/python3.6/dist-packages (from google-auth<2,>=1.6.3->tensorboard>=2.2.0->pytorch-lightning<2.0.0,>=1.0.4->pytorch-forecasting) (4.2.0)\n",
            "Requirement already satisfied: rsa<5,>=3.1.4; python_version >= \"3\" in /usr/local/lib/python3.6/dist-packages (from google-auth<2,>=1.6.3->tensorboard>=2.2.0->pytorch-lightning<2.0.0,>=1.0.4->pytorch-forecasting) (4.6)\n",
            "Requirement already satisfied: requests-oauthlib>=0.7.0 in /usr/local/lib/python3.6/dist-packages (from google-auth-oauthlib<0.5,>=0.4.1->tensorboard>=2.2.0->pytorch-lightning<2.0.0,>=1.0.4->pytorch-forecasting) (1.3.0)\n",
            "Collecting pyperclip>=1.6\n",
            "  Downloading https://files.pythonhosted.org/packages/6f/4c/0b1d507ad7e8bc31d690d04b4f475e74c2002d060f7994ce8c09612df707/pyperclip-1.8.1.tar.gz\n",
            "Requirement already satisfied: attrs>=16.3.0 in /usr/local/lib/python3.6/dist-packages (from cmd2!=0.8.3,>=0.8.0->cliff->optuna<3.0.0,>=2.3.0->pytorch-forecasting) (20.3.0)\n",
            "Requirement already satisfied: wcwidth>=0.1.7 in /usr/local/lib/python3.6/dist-packages (from cmd2!=0.8.3,>=0.8.0->cliff->optuna<3.0.0,>=2.3.0->pytorch-forecasting) (0.2.5)\n",
            "Collecting colorama>=0.3.7\n",
            "  Downloading https://files.pythonhosted.org/packages/44/98/5b86278fbbf250d239ae0ecb724f8572af1c91f4a11edf4d36a206189440/colorama-0.4.4-py2.py3-none-any.whl\n",
            "Requirement already satisfied: MarkupSafe>=0.9.2 in /usr/local/lib/python3.6/dist-packages (from Mako->alembic->optuna<3.0.0,>=2.3.0->pytorch-forecasting) (1.1.1)\n",
            "Requirement already satisfied: zipp>=0.5 in /usr/local/lib/python3.6/dist-packages (from importlib-metadata; python_version < \"3.8\"->markdown>=2.6.8->tensorboard>=2.2.0->pytorch-lightning<2.0.0,>=1.0.4->pytorch-forecasting) (3.4.0)\n",
            "Requirement already satisfied: pyasn1<0.5.0,>=0.4.6 in /usr/local/lib/python3.6/dist-packages (from pyasn1-modules>=0.2.1->google-auth<2,>=1.6.3->tensorboard>=2.2.0->pytorch-lightning<2.0.0,>=1.0.4->pytorch-forecasting) (0.4.8)\n",
            "Requirement already satisfied: oauthlib>=3.0.0 in /usr/local/lib/python3.6/dist-packages (from requests-oauthlib>=0.7.0->google-auth-oauthlib<0.5,>=0.4.1->tensorboard>=2.2.0->pytorch-lightning<2.0.0,>=1.0.4->pytorch-forecasting) (3.1.0)\n",
            "Building wheels for collected packages: PyYAML, future, PrettyTable, pyperclip\n",
            "  Building wheel for PyYAML (setup.py) ... \u001b[?25l\u001b[?25hdone\n",
            "  Created wheel for PyYAML: filename=PyYAML-5.3.1-cp36-cp36m-linux_x86_64.whl size=44621 sha256=69e4a383422b727965ccd9ad20cb3e8db8dfbf104db0ee9c4af2e16492c210f9\n",
            "  Stored in directory: /root/.cache/pip/wheels/a7/c1/ea/cf5bd31012e735dc1dfea3131a2d5eae7978b251083d6247bd\n",
            "  Building wheel for future (setup.py) ... \u001b[?25l\u001b[?25hdone\n",
            "  Created wheel for future: filename=future-0.18.2-cp36-none-any.whl size=491057 sha256=de5ada52dbd20f19f63d9dad8086180d4ea8823cbf3541bc29b167250a74f185\n",
            "  Stored in directory: /root/.cache/pip/wheels/8b/99/a0/81daf51dcd359a9377b110a8a886b3895921802d2fc1b2397e\n",
            "  Building wheel for PrettyTable (setup.py) ... \u001b[?25l\u001b[?25hdone\n",
            "  Created wheel for PrettyTable: filename=prettytable-0.7.2-cp36-none-any.whl size=13702 sha256=326bd10d03ca79267a5c47f4b6a7b74dd01051cc2cb62b1d382b95f4ee266628\n",
            "  Stored in directory: /root/.cache/pip/wheels/80/34/1c/3967380d9676d162cb59513bd9dc862d0584e045a162095606\n",
            "  Building wheel for pyperclip (setup.py) ... \u001b[?25l\u001b[?25hdone\n",
            "  Created wheel for pyperclip: filename=pyperclip-1.8.1-cp36-none-any.whl size=11120 sha256=ca38fd2f5eb7fddea58ee1cee57070b4e86a13b31876f42393297786e62f0452\n",
            "  Stored in directory: /root/.cache/pip/wheels/44/10/3a/c830e9bb3db2c93274ea1f213a41fabde0d8cf3794251fad0c\n",
            "Successfully built PyYAML future PrettyTable pyperclip\n",
            "Installing collected packages: PyYAML, future, fsspec, pytorch-lightning, threadpoolctl, scikit-learn, pbr, PrettyTable, stevedore, pyperclip, colorama, cmd2, cliff, colorlog, python-editor, Mako, alembic, cmaes, optuna, pytorch-forecasting\n",
            "  Found existing installation: PyYAML 3.13\n",
            "    Uninstalling PyYAML-3.13:\n",
            "      Successfully uninstalled PyYAML-3.13\n",
            "  Found existing installation: future 0.16.0\n",
            "    Uninstalling future-0.16.0:\n",
            "      Successfully uninstalled future-0.16.0\n",
            "  Found existing installation: scikit-learn 0.22.2.post1\n",
            "    Uninstalling scikit-learn-0.22.2.post1:\n",
            "      Successfully uninstalled scikit-learn-0.22.2.post1\n",
            "  Found existing installation: prettytable 2.0.0\n",
            "    Uninstalling prettytable-2.0.0:\n",
            "      Successfully uninstalled prettytable-2.0.0\n",
            "Successfully installed Mako-1.1.3 PrettyTable-0.7.2 PyYAML-5.3.1 alembic-1.4.3 cliff-3.5.0 cmaes-0.7.0 cmd2-1.4.0 colorama-0.4.4 colorlog-4.6.2 fsspec-0.8.5 future-0.18.2 optuna-2.4.0 pbr-5.5.1 pyperclip-1.8.1 python-editor-1.0.4 pytorch-forecasting-0.8.2 pytorch-lightning-1.1.4 scikit-learn-0.24.0 stevedore-3.3.0 threadpoolctl-2.1.0\n"
          ],
          "name": "stdout"
        }
      ]
    },
    {
      "cell_type": "markdown",
      "metadata": {
        "id": "3DPsP07aUfT3"
      },
      "source": [
        "# Pytorch-Forcasting \n",
        "From https://towardsdatascience.com/introducing-pytorch-forecasting-64de99b9ef46\n"
      ]
    },
    {
      "cell_type": "code",
      "metadata": {
        "id": "NUpfT1iEnXg1"
      },
      "source": [
        "from pytorch_forecasting.data.examples import get_stallion_data\n",
        "data = get_stallion_data()"
      ],
      "execution_count": 2,
      "outputs": []
    },
    {
      "cell_type": "code",
      "metadata": {
        "colab": {
          "base_uri": "https://localhost:8080/"
        },
        "id": "pszz805znjym",
        "outputId": "c9082cc6-c2d1-437c-85d3-9d16662f3837"
      },
      "source": [
        "import numpy\n",
        "\n",
        "# add time index\n",
        "data[\"time_idx\"] = data[\"date\"].dt.year * 12 + data[\"date\"].dt.month\n",
        "data[\"time_idx\"] -= data[\"time_idx\"].min()\n",
        "\n",
        "# add additional features\n",
        "data[\"month\"] = data.date.dt.month.astype(str).astype(\"category\")  # categories have be strings\n",
        "data[\"log_volume\"] = numpy.log(data.volume + 1e-8)\n",
        "data[\"avg_volume_by_sku\"] = data.groupby([\"time_idx\", \"sku\"], observed=True).volume.transform(\"mean\")\n",
        "data[\"avg_volume_by_agency\"] = data.groupby([\"time_idx\", \"agency\"], observed=True).volume.transform(\"mean\")\n",
        "\n",
        "# we want to encode special days as one variable and thus need to first reverse one-hot encoding\n",
        "special_days = [\n",
        "    \"easter_day\",\n",
        "    \"good_friday\",\n",
        "    \"new_year\",\n",
        "    \"christmas\",\n",
        "    \"labor_day\",\n",
        "    \"independence_day\",\n",
        "    \"revolution_day_memorial\",\n",
        "    \"regional_games\",\n",
        "    \"fifa_u_17_world_cup\",\n",
        "    \"football_gold_cup\",\n",
        "    \"beer_capital\",\n",
        "    \"music_fest\",\n",
        "]\n",
        "data[special_days] = data[special_days].apply(lambda x: x.map({0: \"-\", 1: x.name})).astype(\"category\")\n",
        "print(data.sample(10, random_state=521))\n",
        "print(data.describe())\n"
      ],
      "execution_count": 4,
      "outputs": [
        {
          "output_type": "stream",
          "text": [
            "          agency     sku  ...  avg_volume_by_sku avg_volume_by_agency\n",
            "291    Agency_25  SKU_03  ...        1225.306376            99.650400\n",
            "871    Agency_29  SKU_02  ...        1634.434615            11.397086\n",
            "19532  Agency_47  SKU_01  ...        2625.472644            48.295650\n",
            "2089   Agency_53  SKU_07  ...          38.529107          2511.035175\n",
            "9755   Agency_17  SKU_02  ...        2143.677462           396.022140\n",
            "7561   Agency_05  SKU_03  ...        1566.643589          1881.866367\n",
            "19204  Agency_11  SKU_05  ...        1385.225478           109.699200\n",
            "8781   Agency_48  SKU_04  ...        1757.950603          1925.272108\n",
            "2540   Agency_07  SKU_21  ...           0.000000          2418.719550\n",
            "12084  Agency_21  SKU_03  ...        2034.293024           109.381800\n",
            "\n",
            "[10 rows x 31 columns]\n",
            "             volume  industry_volume  ...  avg_volume_by_sku  avg_volume_by_agency\n",
            "count  21000.000000     2.100000e+04  ...       21000.000000          21000.000000\n",
            "mean    1492.403982     5.439214e+08  ...        1492.403982           1492.403982\n",
            "std     2711.496882     6.288022e+07  ...        1051.790829           1328.239698\n",
            "min        0.000000     4.130518e+08  ...           0.000000              0.000000\n",
            "25%        8.272388     5.090553e+08  ...         932.285496            113.420250\n",
            "50%      158.436000     5.512000e+08  ...        1402.305264           1730.529771\n",
            "75%     1774.793475     5.893715e+08  ...        2195.362302           2595.316500\n",
            "max    22526.610000     6.700157e+08  ...        4332.363750           5884.717375\n",
            "\n",
            "[8 rows x 15 columns]\n"
          ],
          "name": "stdout"
        }
      ]
    },
    {
      "cell_type": "code",
      "metadata": {
        "colab": {
          "base_uri": "https://localhost:8080/"
        },
        "id": "Uk9dnAM_nyMX",
        "outputId": "bce33c41-f659-41cf-b06e-cdbae80d7a60"
      },
      "source": [
        "from pytorch_forecasting import TimeSeriesDataSet, GroupNormalizer, Baseline, TemporalFusionTransformer\n",
        "\n",
        "max_prediction_length = 6\n",
        "max_encoder_length = 24\n",
        "training_cutoff = data[\"time_idx\"].max() - max_prediction_length\n",
        "\n",
        "training = TimeSeriesDataSet(\n",
        "    data[lambda x: x.time_idx <= training_cutoff],\n",
        "    time_idx=\"time_idx\",\n",
        "    target=\"volume\",\n",
        "    group_ids=[\"agency\", \"sku\"],\n",
        "    min_encoder_length=max_encoder_length // 2,  # keep encoder length long (as it is in the validation set)\n",
        "    max_encoder_length=max_encoder_length,\n",
        "    min_prediction_length=1,\n",
        "    max_prediction_length=max_prediction_length,\n",
        "    static_categoricals=[\"agency\", \"sku\"],\n",
        "    static_reals=[\"avg_population_2017\", \"avg_yearly_household_income_2017\"],\n",
        "    time_varying_known_categoricals=[\"special_days\", \"month\"],\n",
        "    variable_groups={\"special_days\": special_days},  # group of categorical variables can be treated as one variable\n",
        "    time_varying_known_reals=[\"time_idx\", \"price_regular\", \"discount_in_percent\"],\n",
        "    time_varying_unknown_categoricals=[],\n",
        "    time_varying_unknown_reals=[\n",
        "        \"volume\",\n",
        "        \"log_volume\",\n",
        "        \"industry_volume\",\n",
        "        \"soda_volume\",\n",
        "        \"avg_max_temp\",\n",
        "        \"avg_volume_by_agency\",\n",
        "        \"avg_volume_by_sku\",\n",
        "    ],\n",
        "    target_normalizer=GroupNormalizer(\n",
        "        groups=[\"agency\", \"sku\"], transformation=\"softplus\"\n",
        "    ),  # use softplus and normalize by group\n",
        "    add_relative_time_idx=True,\n",
        "    add_target_scales=True,\n",
        "    add_encoder_length=True,\n",
        ")\n",
        "\n",
        "# create validation set (predict=True) which means to predict the last max_prediction_length points in time\n",
        "# for each series\n",
        "validation = TimeSeriesDataSet.from_dataset(training, data, predict=True, stop_randomization=True)\n",
        "\n",
        "# create dataloaders for model\n",
        "batch_size = 128  # set this between 32 to 128\n",
        "train_dataloader = training.to_dataloader(train=True, batch_size=batch_size, num_workers=0)\n",
        "val_dataloader = validation.to_dataloader(train=False, batch_size=batch_size * 10, num_workers=0)\n",
        "\n",
        "print(\"create baseline\")\n"
      ],
      "execution_count": 6,
      "outputs": [
        {
          "output_type": "stream",
          "text": [
            "/usr/local/lib/python3.6/dist-packages/pytorch_forecasting/data/timeseries.py:364: SettingWithCopyWarning: \n",
            "A value is trying to be set on a copy of a slice from a DataFrame.\n",
            "Try using .loc[row_indexer,col_indexer] = value instead\n",
            "\n",
            "See the caveats in the documentation: https://pandas.pydata.org/pandas-docs/stable/user_guide/indexing.html#returning-a-view-versus-a-copy\n",
            "  data[\"relative_time_idx\"] = 0.0  # dummy - real value will be set dynamiclly in __getitem__()\n",
            "/usr/local/lib/python3.6/dist-packages/pytorch_forecasting/data/timeseries.py:373: SettingWithCopyWarning: \n",
            "A value is trying to be set on a copy of a slice from a DataFrame.\n",
            "Try using .loc[row_indexer,col_indexer] = value instead\n",
            "\n",
            "See the caveats in the documentation: https://pandas.pydata.org/pandas-docs/stable/user_guide/indexing.html#returning-a-view-versus-a-copy\n",
            "  data[\"encoder_length\"] = 0  # dummy - real value will be set dynamiclly in __getitem__()\n"
          ],
          "name": "stderr"
        },
        {
          "output_type": "stream",
          "text": [
            "create baseline\n"
          ],
          "name": "stdout"
        }
      ]
    },
    {
      "cell_type": "code",
      "metadata": {
        "colab": {
          "base_uri": "https://localhost:8080/"
        },
        "id": "bqVKgAs3oFcP",
        "outputId": "6806735a-ff5f-41e6-e8b6-07e797f2f818"
      },
      "source": [
        "import torch\n",
        "\n",
        "# calculate baseline mean absolute error, i.e. predict next value as the last available value from the history\n",
        "actuals = torch.cat([y for x, y in iter(val_dataloader)][0][:-1])\n",
        "baseline_predictions = Baseline().predict(val_dataloader)\n",
        "result = (actuals - baseline_predictions).abs().mean().item()\n",
        "\n",
        "print(result)\n"
      ],
      "execution_count": 8,
      "outputs": [
        {
          "output_type": "stream",
          "text": [
            "293.0088195800781\n"
          ],
          "name": "stdout"
        }
      ]
    },
    {
      "cell_type": "code",
      "metadata": {
        "colab": {
          "base_uri": "https://localhost:8080/"
        },
        "id": "zvGEw2b2oZoG",
        "outputId": "57c96190-53b7-4ace-d740-f71d59779c59"
      },
      "source": [
        "import pytorch_lightning\n",
        "from pytorch_forecasting.metrics import QuantileLoss\n",
        "\n",
        "print(\"configure network and trainer\")\n",
        "\n",
        "pytorch_lightning.seed_everything(42)\n",
        "trainer = pytorch_lightning.Trainer(\n",
        "    gpus=0,\n",
        "    # clipping gradients is a hyperparameter and important to prevent divergance\n",
        "    # of the gradient for recurrent neural networks\n",
        "    gradient_clip_val=0.1,\n",
        ")\n",
        "\n",
        "\n",
        "tft = TemporalFusionTransformer.from_dataset(\n",
        "    training,\n",
        "    # not meaningful for finding the learning rate but otherwise very important\n",
        "    learning_rate=0.03,\n",
        "    hidden_size=16,  # most important hyperparameter apart from learning rate\n",
        "    # number of attention heads. Set to up to 4 for large datasets\n",
        "    attention_head_size=1,\n",
        "    dropout=0.1,  # between 0.1 and 0.3 are good values\n",
        "    hidden_continuous_size=8,  # set to <= hidden_size\n",
        "    output_size=7,  # 7 quantiles by default\n",
        "    loss=QuantileLoss(),\n",
        "    # reduce learning rate if no improvement in validation loss after x epochs\n",
        "    reduce_on_plateau_patience=4,\n",
        ")\n",
        "print(f\"Number of parameters in network: {tft.size()/1e3:.1f}k\")\n"
      ],
      "execution_count": 11,
      "outputs": [
        {
          "output_type": "stream",
          "text": [
            "Global seed set to 42\n",
            "/usr/local/lib/python3.6/dist-packages/pytorch_lightning/utilities/distributed.py:49: UserWarning: You have set progress_bar_refresh_rate < 20 on Google Colab. This may crash. Consider using progress_bar_refresh_rate >= 20 in Trainer.\n",
            "  warnings.warn(*args, **kwargs)\n",
            "GPU available: True, used: False\n",
            "TPU available: None, using: 0 TPU cores\n"
          ],
          "name": "stderr"
        },
        {
          "output_type": "stream",
          "text": [
            "configure network and trainer\n",
            "Number of parameters in network: 29.7k\n"
          ],
          "name": "stdout"
        },
        {
          "output_type": "stream",
          "text": [
            "/usr/local/lib/python3.6/dist-packages/pytorch_lightning/utilities/distributed.py:49: UserWarning: GPU available but not used. Set the --gpus flag when calling the script.\n",
            "  warnings.warn(*args, **kwargs)\n"
          ],
          "name": "stderr"
        }
      ]
    },
    {
      "cell_type": "code",
      "metadata": {
        "id": "09Yit2LKezin",
        "colab": {
          "base_uri": "https://localhost:8080/"
        },
        "outputId": "846a9d22-87fc-4dd6-9d43-5ee09426bfbe"
      },
      "source": [
        "#mount google colab acoount\n",
        "from google.colab import drive\n",
        "drive.mount('/content/drive')"
      ],
      "execution_count": 1,
      "outputs": [
        {
          "output_type": "stream",
          "text": [
            "Mounted at /content/drive\n"
          ],
          "name": "stdout"
        }
      ]
    },
    {
      "cell_type": "markdown",
      "metadata": {
        "id": "UTh72pc1VPCI"
      },
      "source": [
        "# Day Ahead market prediction using ARIMA\n",
        "From https://towardsdatascience.com/can-we-predict-the-day-ahead-electricity-market-f532137fd5be\n"
      ]
    },
    {
      "cell_type": "code",
      "metadata": {
        "id": "B2zUjQ0IIMu-"
      },
      "source": [
        "from google.colab import auth\n",
        "auth.authenticate_user()\n",
        "import gspread\n",
        "from oauth2client.client import GoogleCredentials\n",
        "gc = gspread.authorize(GoogleCredentials.get_application_default())"
      ],
      "execution_count": 2,
      "outputs": []
    },
    {
      "cell_type": "code",
      "metadata": {
        "id": "K8kV7y1wIY9S"
      },
      "source": [
        "wb = gc.open_by_url('https://docs.google.com/spreadsheets/d/1VY22j4rgXXx3Rl8nQFOU20TZE_CF7ssJBu-AF9ZBYYU/edit#gid=1671056156')\n",
        "sheet = wb.worksheet('clean_n2ex_2016_hourly.csv')\n",
        "data = sheet.get_all_values()"
      ],
      "execution_count": 3,
      "outputs": []
    },
    {
      "cell_type": "code",
      "metadata": {
        "colab": {
          "base_uri": "https://localhost:8080/"
        },
        "id": "U4TB5zJSJGIL",
        "outputId": "ce92b2ef-5306-4367-eda6-6f66135e8f3e"
      },
      "source": [
        "import pandas as pd\n",
        "\n",
        "df = pd.DataFrame(data)\n",
        "df.columns = df.iloc[0]\n",
        "df = df.iloc[1:]\n",
        "df.shape"
      ],
      "execution_count": 20,
      "outputs": [
        {
          "output_type": "execute_result",
          "data": {
            "text/plain": [
              "(8784, 5)"
            ]
          },
          "metadata": {
            "tags": []
          },
          "execution_count": 20
        }
      ]
    },
    {
      "cell_type": "code",
      "metadata": {
        "id": "jSzLEneFO-IK"
      },
      "source": [
        "df['month'] = pd.DatetimeIndex(df['date']).month\n",
        "df['hour_start'] = pd.to_datetime(df['hour_start'], format='%H').dt.hour\n",
        "df['date_time'] = df['date'].astype(str) + ' ' +df['hour_start'].astype(str)\n",
        "df['season'] = ['winter' if i < 3 or i == 12 else 'Autumn' if i >= 9 and i <= 11 else 'Spring' if i >= 3 and i <= 5 else 'Summer' for i in df['month']]\n"
      ],
      "execution_count": 23,
      "outputs": []
    },
    {
      "cell_type": "code",
      "metadata": {
        "colab": {
          "base_uri": "https://localhost:8080/",
          "height": 333
        },
        "id": "BcC6rjbNKEgj",
        "outputId": "f1c54142-38db-4f04-b064-f164983ed7fa"
      },
      "source": [
        "    xticklabels = df['date_time']\n",
        "    l = sns.scatterplot(data=df, x='date_time', y='price_sterling')\n",
        "    l.set(xlim=(0,300),ylim=(0,200))\n",
        "    l.set_xticklabels(xticklabels, rotation=45, ha='right')\n",
        "    plt.tight_layout\n",
        "    plt.setp(l.get_xticklabels(), visible=True)\n",
        "    plt.show()\n"
      ],
      "execution_count": 24,
      "outputs": [
        {
          "output_type": "display_data",
          "data": {
            "image/png": "[encoded data removed]",
            "text/plain": [
              "<Figure size 432x288 with 1 Axes>"
            ]
          },
          "metadata": {
            "tags": [],
            "needs_background": "light"
          }
        }
      ]
    },
    {
      "cell_type": "code",
      "metadata": {
        "colab": {
          "base_uri": "https://localhost:8080/"
        },
        "id": "c-n7ACE3PNGu",
        "outputId": "b77d3a7a-a60a-4d9c-bec2-fac80ca0fadb"
      },
      "source": [
        "    from statsmodels.tsa.stattools import adfuller\n",
        "    \n",
        "    df1 = df.loc[:200, 'price_sterling'].astype(float)\n",
        "    X = df1.values\n",
        "    print(X)\n",
        "    result = adfuller(X)\n",
        "    print('ADF Statistic: %f' % result[0])\n",
        "    print('p-value: %f' % result[1])\n",
        "    print('Critical Values:')\n",
        "    for key, value in result[4].items():\n",
        "        print('\\t%s: %.3f' % (key, value))\n",
        "\n"
      ],
      "execution_count": 33,
      "outputs": [
        {
          "output_type": "stream",
          "text": [
            "[30.   31.1  37.58 36.53 29.91 27.96 29.88 18.04 12.75 14.21 20.   31.07\n",
            " 34.98 40.9  37.25 31.53 34.52 46.41 64.5  39.55 37.51 35.   34.94 26.91\n",
            " 33.6  34.07 32.96 21.53 18.    9.9  14.97 20.74 17.   24.62 34.93 43.6\n",
            " 38.9  43.27 37.1  35.22 32.04 32.5  70.   55.08 40.84 37.55 33.98 33.15\n",
            " 37.56 37.51 37.53 34.96 34.49 29.82 29.82 25.41 28.21 24.98 30.22 31.03\n",
            " 33.82 39.63 36.03 34.5  30.24 35.   70.   50.86 40.   38.   33.98 32.05\n",
            " 33.75 31.81 35.55 35.39 33.91 30.06 29.82 29.93 30.57 35.04 37.99 37.08\n",
            " 40.11 40.2  38.05 35.05 34.52 40.79 78.27 42.81 40.55 43.   36.06 34.\n",
            " 30.93 29.99 31.95 29.97 27.99 24.32 29.91 43.01 36.1  37.01 36.2  35.86\n",
            " 37.91 38.8  34.95 30.74 30.7  43.03 74.96 49.04 41.92 38.74 37.05 30.35\n",
            " 32.37 30.4  32.44 30.53 29.92 24.07 30.   38.03 36.74 42.9  43.59 40.05\n",
            " 34.08 33.6  32.11 31.96 31.05 44.64 69.   40.72 37.94 36.46 35.07 30.5\n",
            " 38.07 38.06 38.   29.91 27.   23.94 26.93 38.05 35.69 38.   39.65 38.99\n",
            " 37.35 35.82 33.57 33.48 32.1  45.07 64.5  44.61 39.04 38.45 39.02 35.46\n",
            " 30.56 30.52 30.58 30.5  30.53 30.1  30.72 37.54 35.42 42.06 39.   38.96\n",
            " 38.13 38.98 38.95 38.   30.67 47.03 81.   50.   47.1  35.94 36.54 36.51\n",
            " 41.03 41.02 41.04 32.82 31.01 27.54 27.41 30.57]\n",
            "ADF Statistic: -7.478127\n",
            "p-value: 0.000000\n",
            "Critical Values:\n",
            "\t1%: -3.464\n",
            "\t5%: -2.876\n",
            "\t10%: -2.575\n"
          ],
          "name": "stdout"
        }
      ]
    },
    {
      "cell_type": "code",
      "metadata": {
        "colab": {
          "base_uri": "https://localhost:8080/",
          "height": 487
        },
        "id": "OvAG6ZMuRQZa",
        "outputId": "1b33a31b-248e-4d68-8c0e-f21465de1af7"
      },
      "source": [
        "    corr_data = df.loc[:200, 'price_sterling'].astype(float)\n",
        "    corr_data = corr_data.replace(np.nan, 0)\n",
        "    print(corr_data)\n",
        "    autocorrelation_plot(corr_data)\n",
        "    plt.show()\n"
      ],
      "execution_count": 34,
      "outputs": [
        {
          "output_type": "stream",
          "text": [
            "1      30.00\n",
            "2      31.10\n",
            "3      37.58\n",
            "4      36.53\n",
            "5      29.91\n",
            "       ...  \n",
            "196    32.82\n",
            "197    31.01\n",
            "198    27.54\n",
            "199    27.41\n",
            "200    30.57\n",
            "Name: price_sterling, Length: 200, dtype: float64\n"
          ],
          "name": "stdout"
        },
        {
          "output_type": "display_data",
          "data": {
            "image/png": "[encoded data removed]",
            "text/plain": [
              "<Figure size 432x288 with 1 Axes>"
            ]
          },
          "metadata": {
            "tags": [],
            "needs_background": "light"
          }
        }
      ]
    },
    {
      "cell_type": "code",
      "metadata": {
        "colab": {
          "base_uri": "https://localhost:8080/",
          "height": 1000
        },
        "id": "PGvGaVV8RazE",
        "outputId": "f9284099-e385-4495-f7bc-5ef278cb9be8"
      },
      "source": [
        "    df1 = df.loc[ :200, 'price_sterling'].astype(float)\n",
        "    model = ARIMA(df1, order=(2,1,5))\n",
        "    model_fit = model.fit(disp=0)\n",
        "    print(model_fit.summary())\n",
        "    residuals = pd.DataFrame(model_fit.resid)\n",
        "    residuals.plot()\n",
        "    plt.show()\n",
        "    residuals.plot(kind='kde')\n",
        "    plt.show()\n",
        "    print(residuals.describe())\n"
      ],
      "execution_count": 36,
      "outputs": [
        {
          "output_type": "stream",
          "text": [
            "/usr/local/lib/python3.6/dist-packages/statsmodels/base/model.py:512: ConvergenceWarning: Maximum Likelihood optimization failed to converge. Check mle_retvals\n",
            "  \"Check mle_retvals\", ConvergenceWarning)\n"
          ],
          "name": "stderr"
        },
        {
          "output_type": "stream",
          "text": [
            "                             ARIMA Model Results                              \n",
            "==============================================================================\n",
            "Dep. Variable:       D.price_sterling   No. Observations:                  199\n",
            "Model:                 ARIMA(2, 1, 5)   Log Likelihood                -694.767\n",
            "Method:                       css-mle   S.D. of innovations              7.760\n",
            "Date:                Wed, 13 Jan 2021   AIC                           1407.535\n",
            "Time:                        05:44:46   BIC                           1437.174\n",
            "Sample:                             1   HQIC                          1419.531\n",
            "                                                                              \n",
            "==========================================================================================\n",
            "                             coef    std err          z      P>|z|      [0.025      0.975]\n",
            "------------------------------------------------------------------------------------------\n",
            "const                      0.0317      0.018      1.719      0.087      -0.004       0.068\n",
            "ar.L1.D.price_sterling    -1.4171      0.018    -79.047      0.000      -1.452      -1.382\n",
            "ar.L2.D.price_sterling    -0.9982      0.009   -113.438      0.000      -1.015      -0.981\n",
            "ma.L1.D.price_sterling     1.1014      0.080     13.700      0.000       0.944       1.259\n",
            "ma.L2.D.price_sterling     0.1442      0.096      1.509      0.133      -0.043       0.331\n",
            "ma.L3.D.price_sterling    -1.1736      0.042    -28.248      0.000      -1.255      -1.092\n",
            "ma.L4.D.price_sterling    -0.8051      0.096     -8.351      0.000      -0.994      -0.616\n",
            "ma.L5.D.price_sterling    -0.2668      0.072     -3.728      0.000      -0.407      -0.127\n",
            "                                    Roots                                    \n",
            "=============================================================================\n",
            "                  Real          Imaginary           Modulus         Frequency\n",
            "-----------------------------------------------------------------------------\n",
            "AR.1           -0.7098           -0.7057j            1.0009           -0.3755\n",
            "AR.2           -0.7098           +0.7057j            1.0009            0.3755\n",
            "MA.1            1.0000           -0.0000j            1.0000           -0.0000\n",
            "MA.2           -0.7024           -0.7123j            1.0004           -0.3739\n",
            "MA.3           -0.7024           +0.7123j            1.0004            0.3739\n",
            "MA.4           -1.3066           -1.4277j            1.9354           -0.3680\n",
            "MA.5           -1.3066           +1.4277j            1.9354            0.3680\n",
            "-----------------------------------------------------------------------------\n"
          ],
          "name": "stdout"
        },
        {
          "output_type": "display_data",
          "data": {
            "image/png": "[encoded data removed]",
            "text/plain": [
              "<Figure size 432x288 with 1 Axes>"
            ]
          },
          "metadata": {
            "tags": [],
            "needs_background": "light"
          }
        },
        {
          "output_type": "display_data",
          "data": {
            "image/png": "[encoded data removed]",
            "text/plain": [
              "<Figure size 432x288 with 1 Axes>"
            ]
          },
          "metadata": {
            "tags": [],
            "needs_background": "light"
          }
        },
        {
          "output_type": "stream",
          "text": [
            "                0\n",
            "count  199.000000\n",
            "mean     0.255599\n",
            "std      7.947247\n",
            "min    -18.429577\n",
            "25%     -3.803187\n",
            "50%     -0.528979\n",
            "75%      2.444750\n",
            "max     37.298961\n"
          ],
          "name": "stdout"
        }
      ]
    },
    {
      "cell_type": "code",
      "metadata": {
        "colab": {
          "base_uri": "https://localhost:8080/"
        },
        "id": "_NDIrL7YSI3N",
        "outputId": "892c7b8f-3e59-46eb-a3ca-5ebbbfd81665"
      },
      "source": [
        "    warnings.filterwarnings(\"ignore\")\n",
        "    df1 = df['price_sterling'].astype(float)\n",
        "    df2 = df1.loc[:300]\n",
        "    X = df2.values\n",
        "    size = int(len(X) * 0.66)\n",
        "    train, test = X[0:size] , X[size:len(X)]\n",
        "    history = [x for x in train]\n",
        "    p = d = q = range(0,6)\n",
        "    pdq = list(itertools.product(p,d,q))\n",
        "    aic_results = []\n",
        "    parameter = []\n",
        "    for param in pdq:\n",
        "        try:\n",
        "            model = ARIMA(history, order=param)\n",
        "            results = model.fit(disp=0)\n",
        "            print('ARIMA{} - AIC:{}'.format(param, results.aic))\n",
        "            aic_results.append(results.aic)\n",
        "            parameter.append(param)\n",
        "        except:\n",
        "            continue\n",
        "    d = dict(ARIMA=parameter, AIC=aic_results)\n",
        "    results_table = pd.DataFrame(dict([ (k, pd.Series(v)) for k,v in d.items()]))\n",
        "    results_table.to_csv(r'drive/MyDrive/datasets/day-ahead-market/AIC.csv')\n"
      ],
      "execution_count": 38,
      "outputs": [
        {
          "output_type": "stream",
          "text": [
            "ARIMA(0, 0, 0) - AIC:1474.0261715286606\n",
            "ARIMA(0, 0, 1) - AIC:1412.4916490994942\n",
            "ARIMA(0, 0, 2) - AIC:1405.5037149021318\n",
            "ARIMA(0, 0, 3) - AIC:1405.89367454762\n",
            "ARIMA(0, 0, 4) - AIC:1407.3601850340688\n",
            "ARIMA(0, 0, 5) - AIC:1409.3600890837176\n",
            "ARIMA(0, 1, 0) - AIC:1443.876527740939\n",
            "ARIMA(0, 1, 1) - AIC:1437.1079993074002\n",
            "ARIMA(0, 1, 2) - AIC:1407.8640637227554\n",
            "ARIMA(0, 1, 3) - AIC:1401.8853773844696\n",
            "ARIMA(0, 1, 4) - AIC:1402.6480820902425\n",
            "ARIMA(0, 2, 0) - AIC:1600.3279409082938\n",
            "ARIMA(0, 2, 1) - AIC:1444.812048701991\n",
            "ARIMA(1, 0, 0) - AIC:1403.3231038916197\n",
            "ARIMA(1, 0, 1) - AIC:1403.4130408828896\n",
            "ARIMA(1, 0, 2) - AIC:1405.4017364047581\n",
            "ARIMA(1, 0, 3) - AIC:1407.4014472489987\n",
            "ARIMA(1, 0, 4) - AIC:1409.3599444065035\n",
            "ARIMA(1, 0, 5) - AIC:1410.5123636549902\n",
            "ARIMA(1, 1, 0) - AIC:1441.5599652321014\n",
            "ARIMA(1, 1, 1) - AIC:1400.6505890970793\n",
            "ARIMA(1, 1, 2) - AIC:1400.4352479498866\n",
            "ARIMA(1, 1, 3) - AIC:1402.4333519777113\n",
            "ARIMA(1, 1, 4) - AIC:1401.6585778381468\n",
            "ARIMA(1, 2, 0) - AIC:1552.1464507259138\n",
            "ARIMA(2, 0, 0) - AIC:1403.5224271272045\n",
            "ARIMA(2, 0, 1) - AIC:1405.4017574158029\n",
            "ARIMA(2, 0, 2) - AIC:1407.525996231404\n",
            "ARIMA(2, 0, 3) - AIC:1409.576251388557\n",
            "ARIMA(2, 0, 4) - AIC:1400.7657307630916\n",
            "ARIMA(2, 0, 5) - AIC:1407.4373031679577\n",
            "ARIMA(2, 1, 0) - AIC:1432.9595904181174\n",
            "ARIMA(2, 1, 1) - AIC:1400.4739123802187\n",
            "ARIMA(2, 1, 2) - AIC:1402.4326736106404\n",
            "ARIMA(2, 1, 3) - AIC:1404.5237118452774\n",
            "ARIMA(2, 1, 4) - AIC:1406.6375299149668\n",
            "ARIMA(2, 1, 5) - AIC:1394.6946122675863\n",
            "ARIMA(2, 2, 0) - AIC:1520.9327844598479\n",
            "ARIMA(3, 0, 0) - AIC:1405.4125594806887\n",
            "ARIMA(3, 0, 1) - AIC:1407.4015359569885\n",
            "ARIMA(3, 0, 2) - AIC:1401.993140011742\n",
            "ARIMA(3, 0, 3) - AIC:1418.46690639447\n",
            "ARIMA(3, 0, 5) - AIC:1406.594791538506\n",
            "ARIMA(3, 1, 0) - AIC:1429.994733464\n",
            "ARIMA(3, 1, 1) - AIC:1402.445726098907\n",
            "ARIMA(3, 2, 0) - AIC:1503.272232659962\n",
            "ARIMA(4, 0, 0) - AIC:1407.3952277238188\n",
            "ARIMA(4, 0, 1) - AIC:1406.786424535574\n",
            "ARIMA(4, 0, 2) - AIC:1398.1919843711962\n",
            "ARIMA(4, 0, 3) - AIC:1397.1937656126443\n",
            "ARIMA(4, 0, 5) - AIC:1405.5433564462141\n",
            "ARIMA(4, 1, 0) - AIC:1428.007489401003\n",
            "ARIMA(4, 1, 1) - AIC:1404.3649632579654\n",
            "ARIMA(4, 1, 2) - AIC:1401.9046997627968\n",
            "ARIMA(4, 1, 3) - AIC:1401.5038850620574\n",
            "ARIMA(4, 2, 0) - AIC:1492.111091097595\n",
            "ARIMA(4, 2, 1) - AIC:1430.273109197452\n",
            "ARIMA(5, 0, 0) - AIC:1409.3932858519568\n",
            "ARIMA(5, 0, 1) - AIC:1410.3106419150065\n",
            "ARIMA(5, 0, 2) - AIC:1412.2871697761834\n",
            "ARIMA(5, 0, 3) - AIC:1404.287932627618\n",
            "ARIMA(5, 0, 4) - AIC:1415.2723118599276\n",
            "ARIMA(5, 0, 5) - AIC:1400.6884446190275\n",
            "ARIMA(5, 1, 0) - AIC:1426.3997119239634\n",
            "ARIMA(5, 1, 1) - AIC:1406.3282125445953\n",
            "ARIMA(5, 1, 3) - AIC:1398.021227725808\n",
            "ARIMA(5, 1, 4) - AIC:1409.131515151161\n",
            "ARIMA(5, 2, 0) - AIC:1482.302687315336\n",
            "ARIMA(5, 2, 1) - AIC:1428.9287168134065\n",
            "ARIMA(5, 2, 2) - AIC:1413.7992611211946\n"
          ],
          "name": "stdout"
        }
      ]
    },
    {
      "cell_type": "code",
      "metadata": {
        "colab": {
          "base_uri": "https://localhost:8080/"
        },
        "id": "wCYRRaZCSk3N",
        "outputId": "d30b334c-0488-443a-d30f-6c936e512bad"
      },
      "source": [
        "    warnings.filterwarnings(\"ignore\")\n",
        "    df1 = df['price_sterling'].astype(float)\n",
        "    df2 = df1.loc[:300]\n",
        "    X = df2.values\n",
        "    size = int(len(X) * 0.66)\n",
        "    train, test = X[0:size] , X[size:len(X)]\n",
        "    history = [x for x in train]\n",
        "    predictions = []\n",
        "    predictionslower = []\n",
        "    predictionsupper = []\n",
        "    for k in range(len(test)):\n",
        "        model = ARIMA(history, order=(1,1,2))\n",
        "        model_fit = model.fit(disp=0)\n",
        "        forecast, stderr, conf_int = model_fit.forecast()\n",
        "        yhat = forecast[0]\n",
        "        yhatlower = conf_int[0][0]\n",
        "        yhatupper = conf_int[0][1]\n",
        "        predictions.append(yhat)\n",
        "        predictionslower.append(yhatlower)\n",
        "        predictionsupper.append(yhatupper)\n",
        "        obs = test[k]\n",
        "        history.append(obs)\n",
        "        print('predicted=%f, expected=%f' % (yhat, obs))\n",
        "        print('95 prediction interval: %f to %f' % (yhatlower, yhatupper))\n",
        "    error = mean_squared_error(test, predictions)\n",
        "    RMSE = np.sqrt(error)\n",
        "    print('TEST MSE: %.3f' % error)\n",
        "    print('RMSE: %.3f' % (RMSE))\n",
        "    d = dict(data=X, forecast=predictions, lower=predictionslower, upper=predictionsupper)\n",
        "    results_table = pd.DataFrame(dict([ (k, pd.Series(v)) for k,v in d.items()]))\n",
        "    results_table.to_csv(r'drive/MyDrive/datasets/day-ahead-market/arima_forecasting.csv')\n"
      ],
      "execution_count": 39,
      "outputs": [
        {
          "output_type": "stream",
          "text": [
            "predicted=33.119589, expected=27.410000\n",
            "95 prediction interval: 17.126221 to 49.112956\n",
            "predicted=33.290517, expected=30.570000\n",
            "95 prediction interval: 17.318223 to 49.262812\n",
            "predicted=35.062814, expected=30.190000\n",
            "95 prediction interval: 19.126231 to 50.999398\n",
            "predicted=34.390157, expected=30.930000\n",
            "95 prediction interval: 18.479262 to 50.301051\n",
            "predicted=34.873359, expected=37.040000\n",
            "95 prediction interval: 18.994981 to 50.751736\n",
            "predicted=38.511037, expected=41.010000\n",
            "95 prediction interval: 22.669335 to 54.352738\n",
            "predicted=40.306210, expected=41.010000\n",
            "95 prediction interval: 24.500023 to 56.112398\n",
            "predicted=40.018530, expected=41.000000\n",
            "95 prediction interval: 24.250850 to 55.786211\n",
            "predicted=40.107683, expected=41.000000\n",
            "95 prediction interval: 24.377938 to 55.837429\n",
            "predicted=40.130062, expected=32.950000\n",
            "95 prediction interval: 24.438076 to 55.822049\n",
            "predicted=35.168708, expected=32.510000\n",
            "95 prediction interval: 19.484776 to 50.852640\n",
            "predicted=35.767511, expected=44.010000\n",
            "95 prediction interval: 20.117327 to 51.417695\n",
            "predicted=42.746861, expected=68.230000\n",
            "95 prediction interval: 27.095354 to 58.398368\n",
            "predicted=56.809170, expected=52.000000\n",
            "95 prediction interval: 40.829088 to 72.789251\n",
            "predicted=43.858355, expected=40.600000\n",
            "95 prediction interval: 27.903726 to 59.812983\n",
            "predicted=39.583488, expected=36.130000\n",
            "95 prediction interval: 23.661353 to 55.505623\n",
            "predicted=37.714017, expected=36.860000\n",
            "95 prediction interval: 21.822733 to 53.605302\n",
            "predicted=38.558413, expected=35.010000\n",
            "95 prediction interval: 22.703905 to 54.412920\n",
            "predicted=37.193433, expected=40.040000\n",
            "95 prediction interval: 21.368816 to 53.018049\n",
            "predicted=40.613607, expected=40.060000\n",
            "95 prediction interval: 24.821190 to 56.406025\n",
            "predicted=39.892536, expected=42.060000\n",
            "95 prediction interval: 24.136368 to 55.648705\n",
            "predicted=41.327466, expected=34.660000\n",
            "95 prediction interval: 25.604875 to 57.050058\n",
            "predicted=36.432281, expected=28.470000\n",
            "95 prediction interval: 20.721201 to 52.143361\n",
            "predicted=33.580572, expected=23.040000\n",
            "95 prediction interval: 17.870923 to 49.290222\n",
            "predicted=30.592408, expected=23.990000\n",
            "95 prediction interval: 14.858253 to 46.326562\n",
            "predicted=31.591524, expected=22.740000\n",
            "95 prediction interval: 15.869460 to 47.313588\n",
            "predicted=30.298925, expected=27.950000\n",
            "95 prediction interval: 14.570113 to 46.027737\n",
            "predicted=33.720672, expected=27.520000\n",
            "95 prediction interval: 18.024015 to 49.417328\n",
            "predicted=32.595985, expected=30.890000\n",
            "95 prediction interval: 16.913534 to 48.278435\n",
            "predicted=34.884714, expected=32.940000\n",
            "95 prediction interval: 19.235426 to 50.534003\n",
            "predicted=35.680996, expected=38.600000\n",
            "95 prediction interval: 20.064140 to 51.297851\n",
            "predicted=39.141660, expected=40.060000\n",
            "95 prediction interval: 23.554624 to 54.728696\n",
            "predicted=39.408042, expected=39.060000\n",
            "95 prediction interval: 23.854655 to 54.961429\n",
            "predicted=38.739382, expected=33.070000\n",
            "95 prediction interval: 23.219783 to 54.258981\n",
            "predicted=35.021653, expected=31.320000\n",
            "95 prediction interval: 19.518762 to 50.524543\n",
            "predicted=34.593150, expected=40.590000\n",
            "95 prediction interval: 19.116567 to 50.069733\n",
            "predicted=40.620690, expected=69.600000\n",
            "95 prediction interval: 25.158639 to 56.082740\n",
            "predicted=58.423165, expected=51.620000\n",
            "95 prediction interval: 42.563414 to 74.282917\n",
            "predicted=42.988045, expected=35.990000\n",
            "95 prediction interval: 27.139564 to 58.836527\n",
            "predicted=36.386152, expected=33.580000\n",
            "95 prediction interval: 20.548706 to 52.223597\n",
            "predicted=36.294167, expected=33.070000\n",
            "95 prediction interval: 20.486256 to 52.102078\n",
            "predicted=35.932004, expected=30.000000\n",
            "95 prediction interval: 20.152095 to 51.711913\n",
            "predicted=33.969936, expected=31.000000\n",
            "95 prediction interval: 18.205403 to 49.734470\n",
            "predicted=35.000018, expected=30.960000\n",
            "95 prediction interval: 19.263951 to 50.736084\n",
            "predicted=34.650188, expected=31.930000\n",
            "95 prediction interval: 18.938603 to 50.361772\n",
            "predicted=35.292080, expected=30.510000\n",
            "95 prediction interval: 19.609288 to 50.974871\n",
            "predicted=34.150943, expected=29.960000\n",
            "95 prediction interval: 18.489046 to 49.812840\n",
            "predicted=33.979439, expected=29.400000\n",
            "95 prediction interval: 18.340963 to 49.617915\n",
            "predicted=33.565298, expected=30.830000\n",
            "95 prediction interval: 17.948375 to 49.182221\n",
            "predicted=34.512436, expected=38.430000\n",
            "95 prediction interval: 18.923577 to 50.101294\n",
            "predicted=39.219371, expected=34.980000\n",
            "95 prediction interval: 23.654649 to 54.784093\n",
            "predicted=35.890577, expected=34.970000\n",
            "95 prediction interval: 20.348360 to 51.432795\n",
            "predicted=36.632718, expected=34.020000\n",
            "95 prediction interval: 21.121343 to 52.144092\n",
            "predicted=35.817327, expected=35.590000\n",
            "95 prediction interval: 20.333644 to 51.301009\n",
            "predicted=37.003162, expected=40.660000\n",
            "95 prediction interval: 21.550330 to 52.455993\n",
            "predicted=40.034051, expected=44.340000\n",
            "95 prediction interval: 24.605453 to 55.462649\n",
            "predicted=41.779766, expected=47.800000\n",
            "95 prediction interval: 26.372748 to 57.186783\n",
            "predicted=43.726464, expected=40.380000\n",
            "95 prediction interval: 28.332284 to 59.120645\n",
            "predicted=38.504449, expected=33.070000\n",
            "95 prediction interval: 23.135121 to 53.873776\n",
            "predicted=34.950700, expected=40.100000\n",
            "95 prediction interval: 19.597428 to 50.303972\n",
            "predicted=40.346695, expected=80.000000\n",
            "95 prediction interval: 25.010575 to 55.682814\n",
            "predicted=65.638339, expected=53.960000\n",
            "95 prediction interval: 49.599504 to 81.677175\n",
            "predicted=42.319408, expected=47.910000\n",
            "95 prediction interval: 26.254323 to 58.384492\n",
            "predicted=44.067178, expected=38.950000\n",
            "95 prediction interval: 28.019311 to 60.115045\n",
            "predicted=38.170287, expected=36.150000\n",
            "95 prediction interval: 22.141367 to 54.199206\n",
            "predicted=37.720815, expected=30.830000\n",
            "95 prediction interval: 21.720752 to 53.720878\n",
            "predicted=34.413597, expected=37.830000\n",
            "95 prediction interval: 18.422581 to 50.404614\n",
            "predicted=39.537964, expected=32.360000\n",
            "95 prediction interval: 23.572023 to 55.503904\n",
            "predicted=34.934829, expected=44.350000\n",
            "95 prediction interval: 18.975846 to 50.893812\n",
            "predicted=43.438238, expected=30.940000\n",
            "95 prediction interval: 27.469741 to 59.406735\n",
            "predicted=33.355277, expected=29.910000\n",
            "95 prediction interval: 17.347465 to 49.363090\n",
            "predicted=34.702582, expected=18.820000\n",
            "95 prediction interval: 18.719620 to 50.685544\n",
            "predicted=27.320867, expected=24.820000\n",
            "95 prediction interval: 11.257093 to 43.384640\n",
            "predicted=32.328133, expected=37.540000\n",
            "95 prediction interval: 16.291460 to 48.364806\n",
            "predicted=39.264561, expected=38.030000\n",
            "95 prediction interval: 23.246094 to 55.283028\n",
            "predicted=38.193529, expected=37.980000\n",
            "95 prediction interval: 22.203835 to 54.183222\n",
            "predicted=38.387281, expected=36.420000\n",
            "95 prediction interval: 22.426882 to 54.347681\n",
            "predicted=37.372112, expected=36.980000\n",
            "95 prediction interval: 21.439182 to 53.305042\n",
            "predicted=37.919226, expected=34.090000\n",
            "95 prediction interval: 22.015227 to 53.823226\n",
            "predicted=35.987889, expected=34.070000\n",
            "95 prediction interval: 20.106374 to 51.869403\n",
            "predicted=36.333776, expected=34.010000\n",
            "95 prediction interval: 20.479376 to 52.188176\n",
            "predicted=36.195269, expected=33.510000\n",
            "95 prediction interval: 20.367069 to 52.023468\n",
            "predicted=35.878011, expected=31.100000\n",
            "95 prediction interval: 20.075094 to 51.680929\n",
            "predicted=34.386408, expected=39.000000\n",
            "95 prediction interval: 18.601933 to 50.170883\n",
            "predicted=39.607924, expected=69.580000\n",
            "95 prediction interval: 23.842496 to 55.373353\n",
            "predicted=57.975508, expected=49.770000\n",
            "95 prediction interval: 41.860805 to 74.090211\n",
            "predicted=41.752927, expected=40.080000\n",
            "95 prediction interval: 25.639730 to 57.866124\n",
            "predicted=39.176267, expected=38.000000\n",
            "95 prediction interval: 23.090497 to 55.262036\n",
            "predicted=38.427871, expected=36.020000\n",
            "95 prediction interval: 22.369780 to 54.485962\n",
            "predicted=37.352707, expected=29.830000\n",
            "95 prediction interval: 21.320330 to 53.385083\n",
            "predicted=33.701880, expected=29.440000\n",
            "95 prediction interval: 17.674147 to 49.729613\n",
            "predicted=34.164204, expected=29.800000\n",
            "95 prediction interval: 18.156895 to 50.171513\n",
            "predicted=34.203193, expected=29.730000\n",
            "95 prediction interval: 18.215759 to 50.190628\n",
            "predicted=34.071334, expected=29.320000\n",
            "95 prediction interval: 18.103275 to 50.039393\n",
            "predicted=33.762270, expected=25.270000\n",
            "95 prediction interval: 17.812429 to 49.712111\n",
            "predicted=31.175811, expected=17.050000\n",
            "95 prediction interval: 15.223942 to 47.127679\n",
            "predicted=26.285732, expected=29.280000\n",
            "95 prediction interval: 10.280662 to 42.290802\n",
            "predicted=34.934833, expected=37.430000\n",
            "95 prediction interval: 18.953476 to 50.916191\n",
            "predicted=38.276704, expected=34.480000\n",
            "95 prediction interval: 22.320100 to 54.233308\n",
            "predicted=35.717178, expected=34.730000\n",
            "95 prediction interval: 19.781720 to 51.652637\n",
            "predicted=36.394211, expected=34.310000\n",
            "95 prediction interval: 20.485218 to 52.303204\n",
            "predicted=35.965379, expected=34.710000\n",
            "95 prediction interval: 20.081349 to 51.849410\n",
            "TEST MSE: 64.808\n",
            "RMSE: 8.050\n"
          ],
          "name": "stdout"
        }
      ]
    }
  ]
}